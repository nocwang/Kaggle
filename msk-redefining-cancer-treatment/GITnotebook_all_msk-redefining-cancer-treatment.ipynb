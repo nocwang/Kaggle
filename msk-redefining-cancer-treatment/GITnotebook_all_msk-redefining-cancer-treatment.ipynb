{
 "cells": [
  {
   "cell_type": "markdown",
   "metadata": {
    "_cell_guid": "43c38433-6d17-4b1e-9f2a-bca4f692489a",
    "_execution_state": "idle",
    "_uuid": "ea7d07e39f8c6160c05767de0c4f7f6489ebe8df"
   },
   "source": [
    "msk-redefining-cancer-treatment\n",
    "\n",
    "Personalized Medicine: Redefining Cancer Treatment | Kaggle\n",
    "============================="
   ]
  },
  {
   "cell_type": "code",
   "execution_count": 1,
   "metadata": {
    "_cell_guid": "e99beda1-d7bb-4de3-916c-327d1f2d87e2",
    "_execution_state": "busy",
    "_uuid": "92a8330e090e0074e540f721894351f10a6946d6",
    "scrolled": true
   },
   "outputs": [
    {
     "name": "stderr",
     "output_type": "stream",
     "text": [
      "/home/yannisplab/anaconda3/lib/python3.6/site-packages/sklearn/cross_validation.py:44: DeprecationWarning: This module was deprecated in version 0.18 in favor of the model_selection module into which all the refactored classes and functions are moved. Also note that the interface of the new CV iterators are different from that of this module. This module will be removed in 0.20.\n",
      "  \"This module will be removed in 0.20.\", DeprecationWarning)\n",
      "/home/yannisplab/anaconda3/lib/python3.6/site-packages/sklearn/grid_search.py:43: DeprecationWarning: This module was deprecated in version 0.18 in favor of the model_selection module into which all the refactored classes and functions are moved. This module will be removed in 0.20.\n",
      "  DeprecationWarning)\n",
      "/home/yannisplab/anaconda3/lib/python3.6/site-packages/sklearn/lda.py:6: DeprecationWarning: lda.LDA has been moved to discriminant_analysis.LinearDiscriminantAnalysis in 0.17 and will be removed in 0.19\n",
      "  \"in 0.17 and will be removed in 0.19\", DeprecationWarning)\n",
      "/home/yannisplab/anaconda3/lib/python3.6/site-packages/sklearn/learning_curve.py:23: DeprecationWarning: This module was deprecated in version 0.18 in favor of the model_selection module into which all the functions are moved. This module will be removed in 0.20\n",
      "  DeprecationWarning)\n",
      "/home/yannisplab/anaconda3/lib/python3.6/site-packages/sklearn/qda.py:6: DeprecationWarning: qda.QDA has been moved to discriminant_analysis.QuadraticDiscriminantAnalysis in 0.17 and will be removed in 0.19.\n",
      "  \"in 0.17 and will be removed in 0.19.\", DeprecationWarning)\n"
     ]
    }
   ],
   "source": [
    "from sklearn import *\n",
    "import sklearn\n",
    "import pandas as pd\n",
    "import numpy as np\n",
    "import xgboost as xgb\n",
    "\n",
    "from sklearn.metrics import log_loss                                                         \n",
    "from sklearn.ensemble import RandomForestClassifier                                             \n",
    "from sklearn.model_selection import KFold                                                       \n",
    "#from sklearn.metrics import accuracy_score   \n",
    "\n",
    "import matplotlib.pyplot as plt\n",
    "import seaborn as sns\n",
    "%matplotlib inline\n",
    "\n",
    "train = pd.read_csv('../input/training_variants')\n",
    "test = pd.read_csv('../input/test_variants')\n",
    "trainx = pd.read_csv('../input/training_text', sep=\"\\|\\|\", engine='python', header=None, skiprows=1, names=[\"ID\",\"Text\"])\n",
    "testx = pd.read_csv('../input/test_text', sep=\"\\|\\|\", engine='python', header=None, skiprows=1, names=[\"ID\",\"Text\"])\n"
   ]
  },
  {
   "cell_type": "code",
   "execution_count": null,
   "metadata": {
    "collapsed": true
   },
   "outputs": [],
   "source": [
    "train = pd.merge(train, trainx, how='left', on='ID').fillna('')\n",
    "y = train['Class'].values\n",
    "train = train.drop(['Class'], axis=1)\n",
    "\n",
    "test = pd.merge(test, testx, how='left', on='ID').fillna('')\n",
    "pid = test['ID'].values"
   ]
  },
  {
   "cell_type": "markdown",
   "metadata": {},
   "source": [
    "if 1st time, uncomment below and comment next cell"
   ]
  },
  {
   "cell_type": "code",
   "execution_count": 2,
   "metadata": {},
   "outputs": [
    {
     "name": "stdout",
     "output_type": "stream",
     "text": [
      "3260\n",
      "3091\n",
      "0\n",
      "100\n",
      "200\n",
      "300\n",
      "400\n",
      "500\n",
      "600\n",
      "700\n",
      "800\n",
      "900\n",
      "1000\n",
      "1100\n",
      "1200\n",
      "1300\n",
      "1400\n",
      "1500\n",
      "1600\n",
      "1700\n",
      "1800\n",
      "1900\n",
      "2000\n",
      "2100\n",
      "2200\n",
      "2300\n",
      "2400\n",
      "2500\n",
      "2600\n",
      "2700\n",
      "2800\n",
      "2900\n",
      "3000\n"
     ]
    }
   ],
   "source": [
    "# df_all = pd.concat((train, test), axis=0, ignore_index=True)\n",
    "# df_all['Gene_Share'] = df_all.apply(lambda r: sum([1 for w in r['Gene'].split(' ') if w in r['Text'].split(' ')]), axis=1)\n",
    "# df_all['Variation_Share'] = df_all.apply(lambda r: sum([1 for w in r['Variation'].split(' ') if w in r['Text'].split(' ')]), axis=1)\n",
    "\n",
    "# #commented for Kaggle Limits\n",
    "# for i in range(56):\n",
    "#     df_all['Gene_'+str(i)] = df_all['Gene'].map(lambda x: str(x[i]) if len(x)>i else '')\n",
    "#     df_all['Variation'+str(i)] = df_all['Variation'].map(lambda x: str(x[i]) if len(x)>i else '')\n",
    "\n",
    "\n",
    "# gen_var_lst = sorted(list(train.Gene.unique()) + list(train.Variation.unique()))\n",
    "# print(len(gen_var_lst))\n",
    "# gen_var_lst = [x for x in gen_var_lst if len(x.split(' '))==1]\n",
    "# print(len(gen_var_lst))\n",
    "# i_ = 0\n",
    "# #commented for Kaggle Limits\n",
    "# for gen_var_lst_itm in gen_var_lst:\n",
    "#     if i_ % 100 == 0: print(i_)\n",
    "#     df_all['GV_'+str(gen_var_lst_itm)] = df_all['Text'].map(lambda x: str(x).count(str(gen_var_lst_itm)))\n",
    "#     i_ += 1\n",
    "\n",
    "# for c in df_all.columns:\n",
    "#     if df_all[c].dtype == 'object':\n",
    "#         if c in ['Gene','Variation']:\n",
    "#             lbl = preprocessing.LabelEncoder()\n",
    "#             df_all[c+'_lbl_enc'] = lbl.fit_transform(df_all[c].values)  \n",
    "#             df_all[c+'_len'] = df_all[c].map(lambda x: len(str(x)))\n",
    "#             df_all[c+'_words'] = df_all[c].map(lambda x: len(str(x).split(' ')))\n",
    "#         elif c != 'Text':\n",
    "#             lbl = preprocessing.LabelEncoder()\n",
    "#             df_all[c] = lbl.fit_transform(df_all[c].values)\n",
    "#         if c=='Text': \n",
    "#             df_all[c+'_len'] = df_all[c].map(lambda x: len(str(x)))\n",
    "#             df_all[c+'_words'] = df_all[c].map(lambda x: len(str(x).split(' '))) \n",
    "\n",
    "\n",
    "\n",
    "#df_all.to_csv('df_all.csv')\n"
   ]
  },
  {
   "cell_type": "markdown",
   "metadata": {},
   "source": [
    "if 2nd time run, comment above and use below"
   ]
  },
  {
   "cell_type": "code",
   "execution_count": 57,
   "metadata": {},
   "outputs": [
    {
     "name": "stdout",
     "output_type": "stream",
     "text": [
      "(8989, 3217)\n"
     ]
    },
    {
     "data": {
      "text/html": [
       "<div>\n",
       "<style>\n",
       "    .dataframe thead tr:only-child th {\n",
       "        text-align: right;\n",
       "    }\n",
       "\n",
       "    .dataframe thead th {\n",
       "        text-align: left;\n",
       "    }\n",
       "\n",
       "    .dataframe tbody tr th {\n",
       "        vertical-align: top;\n",
       "    }\n",
       "</style>\n",
       "<table border=\"1\" class=\"dataframe\">\n",
       "  <thead>\n",
       "    <tr style=\"text-align: right;\">\n",
       "      <th></th>\n",
       "      <th>ID</th>\n",
       "      <th>Gene_Share</th>\n",
       "      <th>Variation_Share</th>\n",
       "      <th>Gene_0</th>\n",
       "      <th>Variation0</th>\n",
       "      <th>Gene_1</th>\n",
       "      <th>Variation1</th>\n",
       "      <th>Gene_2</th>\n",
       "      <th>Variation2</th>\n",
       "      <th>Gene_3</th>\n",
       "      <th>...</th>\n",
       "      <th>GV_YAP1</th>\n",
       "      <th>GV_p61BRAF</th>\n",
       "      <th>Gene_lbl_enc</th>\n",
       "      <th>Gene_len</th>\n",
       "      <th>Gene_words</th>\n",
       "      <th>Variation_lbl_enc</th>\n",
       "      <th>Variation_len</th>\n",
       "      <th>Variation_words</th>\n",
       "      <th>Text_len</th>\n",
       "      <th>Text_words</th>\n",
       "    </tr>\n",
       "  </thead>\n",
       "  <tbody>\n",
       "    <tr>\n",
       "      <th>count</th>\n",
       "      <td>8989.000000</td>\n",
       "      <td>8989.000000</td>\n",
       "      <td>8989.000000</td>\n",
       "      <td>8989.000000</td>\n",
       "      <td>8989.000000</td>\n",
       "      <td>8989.000000</td>\n",
       "      <td>8989.000000</td>\n",
       "      <td>8989.000000</td>\n",
       "      <td>8989.000000</td>\n",
       "      <td>8989.000000</td>\n",
       "      <td>...</td>\n",
       "      <td>8989.000000</td>\n",
       "      <td>8989.000000</td>\n",
       "      <td>8989.000000</td>\n",
       "      <td>8989.000000</td>\n",
       "      <td>8989.0</td>\n",
       "      <td>8989.000000</td>\n",
       "      <td>8989.000000</td>\n",
       "      <td>8989.000000</td>\n",
       "      <td>8989.000000</td>\n",
       "      <td>8989.000000</td>\n",
       "    </tr>\n",
       "    <tr>\n",
       "      <th>mean</th>\n",
       "      <td>2399.948604</td>\n",
       "      <td>0.359328</td>\n",
       "      <td>0.815775</td>\n",
       "      <td>9.350873</td>\n",
       "      <td>16.880187</td>\n",
       "      <td>19.078095</td>\n",
       "      <td>6.105796</td>\n",
       "      <td>17.844699</td>\n",
       "      <td>8.071866</td>\n",
       "      <td>12.848036</td>\n",
       "      <td>...</td>\n",
       "      <td>0.366448</td>\n",
       "      <td>0.017800</td>\n",
       "      <td>700.801201</td>\n",
       "      <td>4.564913</td>\n",
       "      <td>1.0</td>\n",
       "      <td>4271.975971</td>\n",
       "      <td>5.742797</td>\n",
       "      <td>1.036823</td>\n",
       "      <td>59063.762042</td>\n",
       "      <td>8905.540550</td>\n",
       "    </tr>\n",
       "    <tr>\n",
       "      <th>std</th>\n",
       "      <td>1532.553437</td>\n",
       "      <td>0.479830</td>\n",
       "      <td>0.423356</td>\n",
       "      <td>6.876197</td>\n",
       "      <td>6.422781</td>\n",
       "      <td>7.303647</td>\n",
       "      <td>7.438880</td>\n",
       "      <td>7.648407</td>\n",
       "      <td>7.744326</td>\n",
       "      <td>10.791715</td>\n",
       "      <td>...</td>\n",
       "      <td>6.402976</td>\n",
       "      <td>0.460156</td>\n",
       "      <td>432.263522</td>\n",
       "      <td>1.174447</td>\n",
       "      <td>0.0</td>\n",
       "      <td>2514.680898</td>\n",
       "      <td>3.070985</td>\n",
       "      <td>0.217404</td>\n",
       "      <td>37051.380894</td>\n",
       "      <td>5597.929867</td>\n",
       "    </tr>\n",
       "    <tr>\n",
       "      <th>min</th>\n",
       "      <td>0.000000</td>\n",
       "      <td>0.000000</td>\n",
       "      <td>0.000000</td>\n",
       "      <td>0.000000</td>\n",
       "      <td>0.000000</td>\n",
       "      <td>0.000000</td>\n",
       "      <td>0.000000</td>\n",
       "      <td>0.000000</td>\n",
       "      <td>0.000000</td>\n",
       "      <td>0.000000</td>\n",
       "      <td>...</td>\n",
       "      <td>0.000000</td>\n",
       "      <td>0.000000</td>\n",
       "      <td>0.000000</td>\n",
       "      <td>2.000000</td>\n",
       "      <td>1.0</td>\n",
       "      <td>0.000000</td>\n",
       "      <td>3.000000</td>\n",
       "      <td>1.000000</td>\n",
       "      <td>4.000000</td>\n",
       "      <td>1.000000</td>\n",
       "    </tr>\n",
       "    <tr>\n",
       "      <th>25%</th>\n",
       "      <td>1123.000000</td>\n",
       "      <td>0.000000</td>\n",
       "      <td>1.000000</td>\n",
       "      <td>2.000000</td>\n",
       "      <td>11.000000</td>\n",
       "      <td>12.000000</td>\n",
       "      <td>2.000000</td>\n",
       "      <td>12.000000</td>\n",
       "      <td>4.000000</td>\n",
       "      <td>3.000000</td>\n",
       "      <td>...</td>\n",
       "      <td>0.000000</td>\n",
       "      <td>0.000000</td>\n",
       "      <td>321.000000</td>\n",
       "      <td>4.000000</td>\n",
       "      <td>1.0</td>\n",
       "      <td>2068.000000</td>\n",
       "      <td>5.000000</td>\n",
       "      <td>1.000000</td>\n",
       "      <td>37955.000000</td>\n",
       "      <td>5700.000000</td>\n",
       "    </tr>\n",
       "    <tr>\n",
       "      <th>50%</th>\n",
       "      <td>2247.000000</td>\n",
       "      <td>0.000000</td>\n",
       "      <td>1.000000</td>\n",
       "      <td>10.000000</td>\n",
       "      <td>17.000000</td>\n",
       "      <td>20.000000</td>\n",
       "      <td>4.000000</td>\n",
       "      <td>17.000000</td>\n",
       "      <td>7.000000</td>\n",
       "      <td>12.000000</td>\n",
       "      <td>...</td>\n",
       "      <td>0.000000</td>\n",
       "      <td>0.000000</td>\n",
       "      <td>680.000000</td>\n",
       "      <td>4.000000</td>\n",
       "      <td>1.0</td>\n",
       "      <td>4259.000000</td>\n",
       "      <td>5.000000</td>\n",
       "      <td>1.000000</td>\n",
       "      <td>53101.000000</td>\n",
       "      <td>8040.000000</td>\n",
       "    </tr>\n",
       "    <tr>\n",
       "      <th>75%</th>\n",
       "      <td>3420.000000</td>\n",
       "      <td>1.000000</td>\n",
       "      <td>1.000000</td>\n",
       "      <td>15.000000</td>\n",
       "      <td>22.000000</td>\n",
       "      <td>26.000000</td>\n",
       "      <td>7.000000</td>\n",
       "      <td>24.000000</td>\n",
       "      <td>9.000000</td>\n",
       "      <td>24.000000</td>\n",
       "      <td>...</td>\n",
       "      <td>0.000000</td>\n",
       "      <td>0.000000</td>\n",
       "      <td>1076.000000</td>\n",
       "      <td>5.000000</td>\n",
       "      <td>1.0</td>\n",
       "      <td>6484.000000</td>\n",
       "      <td>5.000000</td>\n",
       "      <td>1.000000</td>\n",
       "      <td>70410.000000</td>\n",
       "      <td>10598.000000</td>\n",
       "    </tr>\n",
       "    <tr>\n",
       "      <th>max</th>\n",
       "      <td>5667.000000</td>\n",
       "      <td>1.000000</td>\n",
       "      <td>5.000000</td>\n",
       "      <td>25.000000</td>\n",
       "      <td>31.000000</td>\n",
       "      <td>34.000000</td>\n",
       "      <td>44.000000</td>\n",
       "      <td>35.000000</td>\n",
       "      <td>44.000000</td>\n",
       "      <td>37.000000</td>\n",
       "      <td>...</td>\n",
       "      <td>321.000000</td>\n",
       "      <td>22.000000</td>\n",
       "      <td>1506.000000</td>\n",
       "      <td>9.000000</td>\n",
       "      <td>1.0</td>\n",
       "      <td>8608.000000</td>\n",
       "      <td>55.000000</td>\n",
       "      <td>6.000000</td>\n",
       "      <td>523393.000000</td>\n",
       "      <td>77202.000000</td>\n",
       "    </tr>\n",
       "  </tbody>\n",
       "</table>\n",
       "<p>8 rows × 3214 columns</p>\n",
       "</div>"
      ],
      "text/plain": [
       "                ID   Gene_Share  Variation_Share       Gene_0   Variation0  \\\n",
       "count  8989.000000  8989.000000      8989.000000  8989.000000  8989.000000   \n",
       "mean   2399.948604     0.359328         0.815775     9.350873    16.880187   \n",
       "std    1532.553437     0.479830         0.423356     6.876197     6.422781   \n",
       "min       0.000000     0.000000         0.000000     0.000000     0.000000   \n",
       "25%    1123.000000     0.000000         1.000000     2.000000    11.000000   \n",
       "50%    2247.000000     0.000000         1.000000    10.000000    17.000000   \n",
       "75%    3420.000000     1.000000         1.000000    15.000000    22.000000   \n",
       "max    5667.000000     1.000000         5.000000    25.000000    31.000000   \n",
       "\n",
       "            Gene_1   Variation1       Gene_2   Variation2       Gene_3  \\\n",
       "count  8989.000000  8989.000000  8989.000000  8989.000000  8989.000000   \n",
       "mean     19.078095     6.105796    17.844699     8.071866    12.848036   \n",
       "std       7.303647     7.438880     7.648407     7.744326    10.791715   \n",
       "min       0.000000     0.000000     0.000000     0.000000     0.000000   \n",
       "25%      12.000000     2.000000    12.000000     4.000000     3.000000   \n",
       "50%      20.000000     4.000000    17.000000     7.000000    12.000000   \n",
       "75%      26.000000     7.000000    24.000000     9.000000    24.000000   \n",
       "max      34.000000    44.000000    35.000000    44.000000    37.000000   \n",
       "\n",
       "           ...           GV_YAP1   GV_p61BRAF  Gene_lbl_enc     Gene_len  \\\n",
       "count      ...       8989.000000  8989.000000   8989.000000  8989.000000   \n",
       "mean       ...          0.366448     0.017800    700.801201     4.564913   \n",
       "std        ...          6.402976     0.460156    432.263522     1.174447   \n",
       "min        ...          0.000000     0.000000      0.000000     2.000000   \n",
       "25%        ...          0.000000     0.000000    321.000000     4.000000   \n",
       "50%        ...          0.000000     0.000000    680.000000     4.000000   \n",
       "75%        ...          0.000000     0.000000   1076.000000     5.000000   \n",
       "max        ...        321.000000    22.000000   1506.000000     9.000000   \n",
       "\n",
       "       Gene_words  Variation_lbl_enc  Variation_len  Variation_words  \\\n",
       "count      8989.0        8989.000000    8989.000000      8989.000000   \n",
       "mean          1.0        4271.975971       5.742797         1.036823   \n",
       "std           0.0        2514.680898       3.070985         0.217404   \n",
       "min           1.0           0.000000       3.000000         1.000000   \n",
       "25%           1.0        2068.000000       5.000000         1.000000   \n",
       "50%           1.0        4259.000000       5.000000         1.000000   \n",
       "75%           1.0        6484.000000       5.000000         1.000000   \n",
       "max           1.0        8608.000000      55.000000         6.000000   \n",
       "\n",
       "            Text_len    Text_words  \n",
       "count    8989.000000   8989.000000  \n",
       "mean    59063.762042   8905.540550  \n",
       "std     37051.380894   5597.929867  \n",
       "min         4.000000      1.000000  \n",
       "25%     37955.000000   5700.000000  \n",
       "50%     53101.000000   8040.000000  \n",
       "75%     70410.000000  10598.000000  \n",
       "max    523393.000000  77202.000000  \n",
       "\n",
       "[8 rows x 3214 columns]"
      ]
     },
     "execution_count": 57,
     "metadata": {},
     "output_type": "execute_result"
    }
   ],
   "source": [
    "#if 2nd time run, comment above\n",
    "df_all= pd.read_csv('df_all.csv').drop(df_all.columns[0], axis=1)\n",
    "print(df_all.shape)#(8989, 3217)\n",
    "summary=df_all.describe()\n",
    "# summary.to_csv('summary.csv')\n",
    "summary"
   ]
  },
  {
   "cell_type": "code",
   "execution_count": 58,
   "metadata": {},
   "outputs": [
    {
     "name": "stdout",
     "output_type": "stream",
     "text": [
      "(8989, 3213)\n",
      "(8989, 586)\n",
      "(8989, 2631)\n"
     ]
    }
   ],
   "source": [
    "df=df_all.iloc[:,4:]\n",
    "#df_std=df_all.std()\n",
    "print(df.shape)\n",
    "df_drop=df.loc[:, (df.std()< 0.001)]\n",
    "print(df_drop.shape)\n",
    "#print(df_drop.columns)\n",
    "dfnew=df_all.drop(df_drop.columns, axis=1)\n",
    "print(dfnew.shape)"
   ]
  },
  {
   "cell_type": "code",
   "execution_count": 59,
   "metadata": {},
   "outputs": [
    {
     "name": "stdout",
     "output_type": "stream",
     "text": [
      "(8989, 2631)\n",
      "(3321, 2623)\n",
      "(5668, 2623)\n"
     ]
    }
   ],
   "source": [
    "df_all=dfnew\n",
    "print(df_all.shape)\n",
    "\n",
    "#remove all column which are 0s in train\n",
    "train = df_all.iloc[:len(train)]\n",
    "test = df_all.iloc[len(train):]\n",
    "\n",
    "train2=train.loc[:, (train != 0).any(axis=0)]\n",
    "print (train2.shape)\n",
    "\n",
    "test=test.loc[:, (train != 0).any(axis=0)]\n",
    "print (test.shape)\n",
    "train=train2\n",
    "\n",
    "# print(train.shape)\n",
    "# print(test.shape)\n",
    "# (8989, 2631)\n",
    "# (3321, 2623)\n",
    "# (5668, 2623)\n"
   ]
  },
  {
   "cell_type": "markdown",
   "metadata": {},
   "source": [
    "## How to use text information"
   ]
  },
  {
   "cell_type": "code",
   "execution_count": 60,
   "metadata": {
    "scrolled": true
   },
   "outputs": [
    {
     "data": {
      "text/plain": [
       "list"
      ]
     },
     "execution_count": 60,
     "metadata": {},
     "output_type": "execute_result"
    }
   ],
   "source": [
    "class cust_regression_vals(sklearn.base.BaseEstimator, sklearn.base.TransformerMixin):\n",
    "    def fit(self, x, y=None):\n",
    "        return self\n",
    "    def transform(self, x):\n",
    "        x = x.drop(['Gene', 'Variation','ID','Text'],axis=1).values\n",
    "        return x\n",
    "\n",
    "class cust_txt_col(sklearn.base.BaseEstimator, sklearn.base.TransformerMixin):\n",
    "    def __init__(self, key):\n",
    "        self.key = key\n",
    "    def fit(self, x, y=None):\n",
    "        return self\n",
    "    def transform(self, x):\n",
    "        return x[self.key].apply(str)\n",
    "\n",
    "# # stop_words='english', #stop_words='stopWords',\n",
    "# train = fp.fit_transform(train); print(train.shape)\n",
    "# test = fp.transform(test); print(test.shape)\n",
    "from sklearn.feature_extraction.text import ENGLISH_STOP_WORDS as esw\n",
    "stopWords = [\"fig\", \"figure\", \"et\", \"al\", \"table\",  \n",
    "        \"data\", \"analysis\", \"analyze\", \"study\",  \n",
    "        \"method\", \"result\", \"conclusion\", \"author\",  \n",
    "        \"find\", \"found\", \"show\", \"perform\",  \n",
    "        \"demonstrate\", \"evaluate\", \"discuss\", \"google\", \"scholar\",   \n",
    "        \"pubmed\",  \"web\", \"science\", \"crossref\", \"supplementary\"] + list(esw) \n",
    "\n",
    "type(stopWords)"
   ]
  },
  {
   "cell_type": "markdown",
   "metadata": {},
   "source": [
    "##  how CountVectorizer work"
   ]
  },
  {
   "cell_type": "code",
   "execution_count": null,
   "metadata": {
    "collapsed": true
   },
   "outputs": [],
   "source": [
    "# from sklearn.feature_extraction.text import CountVectorizer\n",
    "# v = CountVectorizer(ngram_range=(1, 2))\n",
    "# print(v.fit([\"an apple a day keeps the doctor away\"]).vocabulary_)\n",
    "\n",
    "# v = CountVectorizer(ngram_range=(2, 2))\n",
    "# print(v.fit([\"an apple a day keeps the doctor away\"]).vocabulary_)\n",
    "\n",
    "# v = CountVectorizer(ngram_range=(1, 1))\n",
    "# print(v.fit([\"an apple a day keeps the doctor away\"]).vocabulary_)\n",
    "\n",
    "# v = CountVectorizer(ngram_range=(3, 3))\n",
    "# print(v.fit([\"an apple a day keeps the doctor away\"]).vocabulary_)"
   ]
  },
  {
   "cell_type": "code",
   "execution_count": 64,
   "metadata": {},
   "outputs": [
    {
     "name": "stdout",
     "output_type": "stream",
     "text": [
      "Pipeline...\n",
      "(3321, 2959)\n",
      "0\n",
      "500\n",
      "1000\n",
      "1500\n",
      "2000\n",
      "2500\n",
      "3000\n",
      "3500\n",
      "4000\n",
      "4500\n",
      "5000\n",
      "5500\n",
      "(5668, 2959)\n"
     ]
    }
   ],
   "source": [
    "print('Pipeline...')\n",
    "\n",
    "fp = pipeline.Pipeline([\n",
    "    ('union', pipeline.FeatureUnion(\n",
    "        n_jobs = -1,\n",
    "        transformer_list = [\n",
    "            ('standard', cust_regression_vals()),\n",
    "            ('pi1', pipeline.Pipeline([('Gene', cust_txt_col('Gene')), ('count_Gene', feature_extraction.text.CountVectorizer(analyzer=u'char', ngram_range=(1, 8))), ('tsvd1', decomposition.TruncatedSVD(n_components=20, n_iter=25, random_state=12))])),\n",
    "            ('pi2', pipeline.Pipeline([('Variation', cust_txt_col('Variation')), ('count_Variation', feature_extraction.text.CountVectorizer(analyzer=u'char', ngram_range=(1, 8))), ('tsvd2', decomposition.TruncatedSVD(n_components=20, n_iter=25, random_state=12))])),\n",
    "            #commented for Kaggle Limits\n",
    "            ('pi3', pipeline.Pipeline([('Text1', cust_txt_col('Text')), ('tfidf_Text1', feature_extraction.text.TfidfVectorizer(stop_words=stopWords,ngram_range=(1, 1))), ('tsvd3', decomposition.TruncatedSVD(n_components=50, n_iter=25, random_state=12))])),\n",
    "            #commented for Kaggle Limits\n",
    "            ('pi4', pipeline.Pipeline([('Text2', cust_txt_col('Text')), ('tfidf_Text2', feature_extraction.text.TfidfVectorizer(stop_words=stopWords,ngram_range=(2, 2))), ('tsvd4', decomposition.TruncatedSVD(n_components=50, n_iter=25, random_state=12))])),\n",
    "            #commented for Kaggle Limits\n",
    "            ('pi5', pipeline.Pipeline([('Text3', cust_txt_col('Text')), \n",
    "                                       ('hv', feature_extraction.text.HashingVectorizer(stop_words=stopWords,decode_error='ignore', n_features=2 ** 18, non_negative=True, ngram_range=(3, 3))),\n",
    "                                       ('tfidf_Text3', feature_extraction.text.TfidfTransformer()), \n",
    "                                       ('tsvd5', decomposition.TruncatedSVD(n_components=200, n_iter=25, random_state=12))]))\n",
    "#             ('pi5', pipeline.Pipeline([('Text3', cust_txt_col('Text')), ('tfidf_Text3', feature_extraction.text.TfidfVectorizer(stop_words=stopWords,ngram_range=(3, 3))), ('tsvd5', decomposition.TruncatedSVD(n_components=50, n_iter=25, random_state=12))]))\n",
    "        ])\n",
    "    )])\n",
    "#if out of mempry, use the commented\n",
    "# fp = pipeline.Pipeline([\n",
    "#     ('union', pipeline.FeatureUnion(\n",
    "#         n_jobs = -1,\n",
    "#         transformer_list = [\n",
    "#             ('standard', cust_regression_vals()),\n",
    "#             ('pi1', pipeline.Pipeline([('Gene', cust_txt_col('Gene')), \n",
    "#                                        ('count_Gene', feature_extraction.text.CountVectorizer(analyzer=u'char', ngram_range=(1, 8))), \n",
    "#                                        ('tsvd1', decomposition.TruncatedSVD(n_components=20, n_iter=25, random_state=12))])),\n",
    "#             ('pi2', pipeline.Pipeline([('Variation', cust_txt_col('Variation')), \n",
    "#                                        ('count_Variation', feature_extraction.text.CountVectorizer(analyzer=u'char', ngram_range=(1, 8))), \n",
    "#                                        ('tsvd2', decomposition.TruncatedSVD(n_components=20, n_iter=25, random_state=12))])),\n",
    "#             #commented for Kaggle Limits\n",
    "#             ('pi3', pipeline.Pipeline([('Text', cust_txt_col('Text')), \n",
    "#                                        ('hv', feature_extraction.text.HashingVectorizer(stop_words=stopWords,decode_error='ignore', n_features=2 ** 18, non_negative=True, ngram_range=(1, 3))),\n",
    "#                                        ('tfidf_Text', feature_extraction.text.TfidfTransformer()), \n",
    "#                                        ('tsvd3', decomposition.TruncatedSVD(n_components=300, n_iter=25, random_state=12))]))\n",
    "\n",
    "        \n",
    "#         ])\n",
    "#     )])\n",
    "\n",
    "\n",
    "train = fp.fit_transform(train)\n",
    "print (train.shape)\n",
    "\n",
    "test_t = np.empty([0, train.shape[1]])\n",
    "step = 500\n",
    "for i in range(0, len(test), step):\n",
    "    if i % 10 == 0: print(i)\n",
    "    step_end = i+step\n",
    "    step_end = step_end if step_end < len(test) else len(test)\n",
    "    _test = fp.transform(test.iloc[i:step_end])\n",
    "    test_t = np.vstack((test_t, _test))\n",
    "test = test_t\n",
    "print (test.shape)"
   ]
  },
  {
   "cell_type": "code",
   "execution_count": 65,
   "metadata": {},
   "outputs": [
    {
     "data": {
      "text/plain": [
       "8"
      ]
     },
     "execution_count": 65,
     "metadata": {},
     "output_type": "execute_result"
    }
   ],
   "source": [
    "if max(y)==9:\n",
    "    y = y - 1 #fix for zero bound array\n",
    "max(y) #fix for zero bound array"
   ]
  },
  {
   "cell_type": "code",
   "execution_count": 66,
   "metadata": {},
   "outputs": [
    {
     "name": "stdout",
     "output_type": "stream",
     "text": [
      "(3321, 2959)\n",
      "(5668, 2959)\n"
     ]
    }
   ],
   "source": [
    "print(train.shape)\n",
    "print(test.shape)\n",
    "\n",
    "# # np.savetxt('train2734.txt', train)\n",
    "# # np.savetxt('test2734.txt', test)\n",
    "# np.savetxt('train2959.txt', train)\n",
    "# np.savetxt('test2959.txt', test)"
   ]
  },
  {
   "cell_type": "markdown",
   "metadata": {},
   "source": [
    "##  feature selection"
   ]
  },
  {
   "cell_type": "code",
   "execution_count": null,
   "metadata": {
    "collapsed": true
   },
   "outputs": [],
   "source": [
    "# train = np.loadtxt('train_629.txt')\n",
    "# test = np.loadtxt('test_629.txt')"
   ]
  },
  {
   "cell_type": "code",
   "execution_count": 67,
   "metadata": {},
   "outputs": [
    {
     "name": "stdout",
     "output_type": "stream",
     "text": [
      "(8989, 2959)\n",
      "(8989, 2959)\n",
      "(3321, 2959)\n",
      "(5668, 2959)\n"
     ]
    }
   ],
   "source": [
    "##feature selection by VarianceThreshold\n",
    "from sklearn.feature_selection import VarianceThreshold\n",
    "sel = VarianceThreshold(threshold=(.00001))\n",
    "tr_te=np.concatenate((train, test))\n",
    "print(tr_te.shape)\n",
    "tr_te=sel.fit_transform(tr_te)\n",
    "print(tr_te.shape)\n",
    "\n",
    "# train1 = tr_te[:len(train)]\n",
    "# test1 = tr_te[len(train):]\n",
    "# print(train1.shape)\n",
    "# print(test1.shape)\n",
    "\n",
    "train = tr_te[:len(train)]\n",
    "test = tr_te[len(train):]\n",
    "\n",
    "print(train.shape)\n",
    "print(test.shape)\n",
    "\n",
    "# np.savetxt('train2967.txt', train)\n",
    "# np.savetxt('test2967.txt', test)\n"
   ]
  },
  {
   "cell_type": "code",
   "execution_count": 185,
   "metadata": {
    "collapsed": true
   },
   "outputs": [],
   "source": [
    "fold = 10#5\n",
    "imp = np.zeros((fold, train.shape[1]))\n",
    "\n",
    "for i in np.array(range(fold)):\n",
    "    rf = RandomForestClassifier(n_jobs=-1,n_estimators=50,oob_score=True,max_features=\"sqrt\", random_state=i)\n",
    "    rf.fit(train, y)\n",
    "    imp[i,] = rf.feature_importances_\n",
    "    \n",
    "\n",
    "import matplotlib.pyplot as plt\n",
    "\n",
    "t = range(train.shape[1])\n",
    "\n",
    "plt.plot(t,imp[0,],'r') # plotting t,a separately \n",
    "plt.plot(t,imp[1,],'b') # plotting t,b separately \n",
    "plt.plot(t,imp[2,],'g') # plotting t,c separately \n",
    "plt.plot(t,imp[3,],'y-') # plotting t,a separately \n",
    "plt.plot(t,imp[4,],'p-') # plotting t,b separately \n",
    "plt.show()"
   ]
  },
  {
   "cell_type": "code",
   "execution_count": 187,
   "metadata": {},
   "outputs": [
    {
     "name": "stdout",
     "output_type": "stream",
     "text": [
      "2559\n",
      "1961\n",
      "1550\n",
      "811\n",
      "572\n"
     ]
    },
    {
     "data": {
      "image/png": "[encoded data removed]",
      "text/plain": [
       "<matplotlib.figure.Figure at 0x7f26b7f4acc0>"
      ]
     },
     "metadata": {},
     "output_type": "display_data"
    }
   ],
   "source": [
    "#plt.plot(t,importances,'r') \n",
    "importances=sum(imp)\n",
    "importances_sort=np.sort(importances)[::-1]\n",
    "plt.plot(range(len(importances_sort)),importances_sort)\n",
    "print(sum(importances>0.00001))\n",
    "print(sum(importances>0.00005))\n",
    "print(sum(importances>0.0001))\n",
    "print(sum(importances>0.0005))\n",
    "print(sum(importances>0.001))"
   ]
  },
  {
   "cell_type": "code",
   "execution_count": 94,
   "metadata": {
    "scrolled": true
   },
   "outputs": [
    {
     "name": "stdout",
     "output_type": "stream",
     "text": [
      "0.305722891566\n",
      "0.308242378623\n",
      "0.305984192699\n",
      "0.30109145653\n",
      "0.305231464057\n",
      "0.895726985073\n"
     ]
    }
   ],
   "source": [
    "# ##feature selection by tuning RandomForestClassifier\n",
    "# # Instantiate the CV and RF                                                                     \n",
    "# kf = KFold(n_splits=5, shuffle=True,random_state=0)                                                                          \n",
    "# # rf = RandomForestClassifier(n_jobs=-1,n_estimators=500,oob_score=True,max_features=\"sqrt\", random_state=0)\n",
    "# rf = RandomForestClassifier(n_jobs=-1,n_estimators=500,oob_score=True,max_features=0.4,max_depth=20, random_state=0)\n",
    "\n",
    "# preds1=np.zeros((train.shape[0],9))\n",
    "\n",
    "# #denom = 0                                                                                                \n",
    "# for tr_idx, te_idx in kf.split(train):                                                      \n",
    "#     # train                                                                                     \n",
    "#     rf.fit(train[tr_idx,:], y[tr_idx])                                              \n",
    "#     # predict                                                                                   \n",
    "#     preds1[te_idx,:] = rf.predict_proba(train[te_idx,:]) #predict(iris.data[te_idx])                                                        \n",
    "#     oob_error = 1 - rf.oob_score_\n",
    "#     print(oob_error)\n",
    "# #     pred = rf.predict_proba(test)\n",
    "# #     if denom != 0:        \n",
    "# #         preds += pred\n",
    "# #     else:        \n",
    "# #         preds = pred.copy()\n",
    "# #     denom += 1\n",
    "# # preds /= denom\n",
    "# # np.savetxt('test_preds_RF_fold_'  + str(denom) + '.txt', preds)\n",
    "# # np.savetxt('train_preds_RF_fold_'  + str(denom) + '.txt', preds1)\n",
    "# print(log_loss(np.array(y),np.array(preds1)))\n",
    "# #'train2734.txt'\n",
    "# #max_features=\"sqrt\" 0.9248\n",
    "# #max_features=0.1, 0.890869728693\n",
    "# #max_features=0.2  0.898875207776\n",
    "# #'train2959.txt'\n",
    "# #max_features=0.05  0.981296432429\n",
    "# #max_features=0.1, 0.944583962315\n",
    "# #max_features=0.2  0.930992481086 due to more % useful features\n",
    "# #max_features=0.3  0.928734055471\n",
    "# #max_features=0.4  0.912923241119\n",
    "# #max_features=0.5  0.914723769535\n",
    "# #####################\n",
    "# #max_features=0.4,max_depth=15, \n",
    "# # 0.909051901691\n",
    "# #max_features=0.4,max_depth=20, \n",
    "# #0.895726985073\n",
    "# #max_features=0.4,max_depth=25, \n",
    "# #0.895984051886"
   ]
  },
  {
   "cell_type": "code",
   "execution_count": 188,
   "metadata": {},
   "outputs": [
    {
     "name": "stdout",
     "output_type": "stream",
     "text": [
      "310\n",
      "0.00141003540008\n",
      "0.000315054610898\n",
      "0.0001110383038\n",
      "4.70963619111e-05\n"
     ]
    }
   ],
   "source": [
    "# importances_sort=np.sort(importances)[::-1]\n",
    "# plt.plot(range(len(importances_sort)),importances_sort)\n",
    "print(sum(importances_sort==0))\n",
    "\n",
    "print(importances_sort[500])\n",
    "print(importances_sort[1000])\n",
    "print(importances_sort[1500])\n",
    "print(importances_sort[2000])"
   ]
  },
  {
   "cell_type": "markdown",
   "metadata": {},
   "source": [
    "##  PCA for dropped columns"
   ]
  },
  {
   "cell_type": "code",
   "execution_count": 189,
   "metadata": {},
   "outputs": [
    {
     "name": "stdout",
     "output_type": "stream",
     "text": [
      "(2148,)\n",
      "[  9.99949338e-01   3.11836902e-05   2.70575548e-06   2.09089375e-06\n",
      "   1.95036698e-06   1.54813483e-06   1.44744215e-06   8.12541992e-07\n",
      "   7.00801148e-07   6.07232084e-07]\n"
     ]
    }
   ],
   "source": [
    "#min(indices)\n",
    "thres=0.0005\n",
    "ind_drop=indices[(importances<thres)]\n",
    "print(ind_drop.shape)\n",
    "\n",
    "print(train[:,ind_drop].shape)\n",
    "\n",
    "# from sklearn.decomposition import PCA, FastICA, TruncatedSVD\n",
    "# from sklearn.random_projection import GaussianRandomProjection\n",
    "# from sklearn.random_projection import SparseRandomProjection\n",
    "from sklearn.decomposition import PCA   \n",
    "pca=PCA(n_components=10)  #PCA(n_components='mle') \n",
    "newtrain=pca.fit_transform(train[:,ind_drop])  \n",
    "print(pca.explained_variance_ratio_)  \n",
    "#for test, apply same pca\n",
    "newtest=pca.transform(test[:,ind_drop])  #newtest=pca.fit_transform(test)  "
   ]
  },
  {
   "cell_type": "code",
   "execution_count": 200,
   "metadata": {},
   "outputs": [
    {
     "data": {
      "text/plain": [
       "(3321, 2959)"
      ]
     },
     "execution_count": 200,
     "metadata": {},
     "output_type": "execute_result"
    }
   ],
   "source": [
    "# # train_full=train\n",
    "# # test_full=test\n",
    "train=train_full\n",
    "test=test_full\n",
    "\n",
    "train_full.shape"
   ]
  },
  {
   "cell_type": "code",
   "execution_count": 201,
   "metadata": {},
   "outputs": [
    {
     "name": "stdout",
     "output_type": "stream",
     "text": [
      "(3321, 811)\n",
      "(5668, 811)\n"
     ]
    }
   ],
   "source": [
    "select_column=indices[0:sum((importances)>thres)]\n",
    "train=train_full[:,select_column]\n",
    "test=test_full[:,select_column]\n",
    "# train=np.concatenate((train_full[:,select_column], newtrain),axis=1)\n",
    "# test=np.concatenate((test_full[:,select_column], newtest),axis=1)\n",
    "\n",
    "print(train.shape)\n",
    "print(test.shape)\n",
    "# np.savetxt('train671.txt', train)\n",
    "# np.savetxt('test671.txt', test)"
   ]
  },
  {
   "cell_type": "code",
   "execution_count": 205,
   "metadata": {
    "collapsed": true
   },
   "outputs": [],
   "source": [
    "# # np.savetxt('train678.txt', train)\n",
    "# # np.savetxt('test678.txt', test)\n",
    "# np.savetxt('train811.txt', train)\n",
    "# np.savetxt('test811.txt', test)"
   ]
  },
  {
   "cell_type": "markdown",
   "metadata": {},
   "source": [
    "# 2nd RF with fewer features"
   ]
  },
  {
   "cell_type": "code",
   "execution_count": 203,
   "metadata": {},
   "outputs": [
    {
     "name": "stdout",
     "output_type": "stream",
     "text": [
      "0.302710843373\n",
      "0.307866014302\n",
      "0.301844185171\n",
      "0.299962363568\n",
      "0.298833270606\n",
      "0.891789433695\n"
     ]
    }
   ],
   "source": [
    "kf = KFold(n_splits=5, shuffle=True,random_state=0)                                                                          \n",
    "# rf = RandomForestClassifier(n_jobs=-1,n_estimators=500,oob_score=True,max_features=\"sqrt\", random_state=0)\n",
    "rf = RandomForestClassifier(n_jobs=-1,n_estimators=500,oob_score=True,max_features=0.25,max_depth=15, random_state=0)\n",
    "\n",
    "preds1=np.zeros((train.shape[0],9))\n",
    "\n",
    "#denom = 0                                                                                                \n",
    "for tr_idx, te_idx in kf.split(train):                                                      \n",
    "    # train                                                                                     \n",
    "    rf.fit(train[tr_idx,:], y[tr_idx])                                              \n",
    "    # predict                                                                                   \n",
    "    preds1[te_idx,:] = rf.predict_proba(train[te_idx,:]) #predict(iris.data[te_idx])                                                        \n",
    "    oob_error = 1 - rf.oob_score_\n",
    "    print(oob_error)\n",
    "#     pred = rf.predict_proba(test)\n",
    "#     if denom != 0:        \n",
    "#         preds += pred\n",
    "#     else:        \n",
    "#         preds = pred.copy()\n",
    "#     denom += 1\n",
    "# preds /= denom\n",
    "# np.savetxt('test_preds_RF_fold_'  + str(denom) + '.txt', preds)\n",
    "# np.savetxt('train_preds_RF_fold_'  + str(denom) + '.txt', preds1)\n",
    "print(log_loss(np.array(y),np.array(preds1)))\n",
    "#'train671.txt' max_features=0.1\n",
    "#0.895365186154  "
   ]
  },
  {
   "cell_type": "code",
   "execution_count": 204,
   "metadata": {},
   "outputs": [
    {
     "name": "stdout",
     "output_type": "stream",
     "text": [
      "652\n",
      "528\n",
      "463\n",
      "375\n",
      "363\n"
     ]
    },
    {
     "data": {
      "image/png": "[encoded data removed]",
      "text/plain": [
       "<matplotlib.figure.Figure at 0x7f26c712e7f0>"
      ]
     },
     "metadata": {},
     "output_type": "display_data"
    }
   ],
   "source": [
    "# # train with all train data to get feature_importances2_\n",
    "# #rf = RandomForestClassifier(n_jobs=-1,n_estimators=500,oob_score=True,max_features=0.25, random_state=0)\n",
    "# rf.fit(train, y)\n",
    "importances2 = rf.feature_importances_\n",
    "print(sum((importances2)>0.00001))\n",
    "print(sum((importances2)>0.00005))\n",
    "print(sum((importances2)>0.0001))\n",
    "print(sum((importances2)>0.0005))\n",
    "print(sum((importances2)>0.001))\n",
    "\n",
    "plt.plot(range(len(importances2)),importances2)\n",
    "plt.rcParams['figure.figsize'] = (7.0, 7.0)"
   ]
  },
  {
   "cell_type": "code",
   "execution_count": 193,
   "metadata": {},
   "outputs": [
    {
     "data": {
      "text/plain": [
       "array([  2.55921479e-06,   4.28724050e-05,   0.00000000e+00,\n",
       "         9.23500678e-06,   0.00000000e+00,   4.25459025e-06,\n",
       "         1.10256223e-05,   1.79112381e-05,   6.89612637e-05,\n",
       "         1.60811279e-05,   3.00416401e-03,   4.29520560e-03,\n",
       "         5.50334685e-03,   4.90620290e-03,   5.18112838e-03,\n",
       "         5.63412383e-03,   5.65627635e-03,   7.72079052e-03,\n",
       "         4.81979696e-03,   5.06760333e-03])"
      ]
     },
     "execution_count": 193,
     "metadata": {},
     "output_type": "execute_result"
    }
   ],
   "source": [
    "importances2[-20:]"
   ]
  },
  {
   "cell_type": "markdown",
   "metadata": {},
   "source": [
    "## xgboost"
   ]
  },
  {
   "cell_type": "code",
   "execution_count": null,
   "metadata": {
    "scrolled": true
   },
   "outputs": [],
   "source": [
    "dtrain = xgb.DMatrix(train, y)\n",
    "dtest = xgb.DMatrix(test)\n",
    "\n",
    "# # # reproducibility\n",
    "# seed = 342\n",
    "# np.random.seed(seed)\n",
    "import csv\n",
    "best_score=2\n",
    "\n",
    "denom = 0\n",
    "fold = 100\n",
    "for i in np.array(range(fold)):\n",
    "    np.random.seed( i) \n",
    "    params = {\n",
    "        'objective': 'multi:softprob',\n",
    "        'eval_metric': 'mlogloss',\n",
    "        'num_class': 9,\n",
    "        'seed': np.random.randint(1,10000),#i,\n",
    "        'silent': True#,\n",
    "    }\n",
    "    params['nthread'] = -1#28#\n",
    "    params['min_child_weight'] = np.random.randint(2,8)#np.random.randint(2,10)\n",
    "    params['eta'] = np.random.uniform(0.015,0.04)\n",
    "    params['max_depth'] = np.random.randint(4,13)#np.random.randint(8,15)#\n",
    "#     params['subsample'] = np.random.uniform(0.8,1)\n",
    "#     params['colsample_bytree'] = np.random.uniform(0.5,1)\n",
    "    \n",
    "    score = xgb.cv(params, dtrain, 1500, nfold=5, verbose_eval=500, early_stopping_rounds=100)\n",
    "    score1=score.iloc[-1,0]\n",
    "    print(score1)\n",
    "    print(i)\n",
    "    print(params)\n",
    "    \n",
    "    if score1 < best_score:\n",
    "        np.save('best_params_fold_'  + str(i) + '.npy', params) \n",
    "        best_score=score1\n",
    "        best_params=params\n",
    "        best_nround=score.iloc[:,0].idxmin()\n",
    "        #min(score.iloc[:,0])\n",
    "\n",
    "watchlist= [(dtrain, 'train')]\n",
    "model = xgb.train(best_params, dtrain, best_nround,  watchlist, verbose_eval=50, early_stopping_rounds=100)\n",
    "preds = model.predict(dtest, ntree_limit=model.best_ntree_limit)\n",
    "\n",
    "submission = pd.DataFrame(preds, columns=['class'+str(c+1) for c in range(9)])\n",
    "submission['ID'] = pid\n",
    "submission.to_csv('submission_xgb_cv.csv', index=False)\n"
   ]
  },
  {
   "cell_type": "code",
   "execution_count": 35,
   "metadata": {
    "_cell_guid": "56eb3035-949a-4129-a374-fcaff5142b90",
    "_execution_state": "idle",
    "_uuid": "0003d9e63a4d80882fcd8e015cf764332dc29eff",
    "collapsed": true
   },
   "outputs": [],
   "source": [
    "import matplotlib.pyplot as plt\n",
    "import seaborn as sns\n",
    "%matplotlib inline\n",
    "\n",
    "plt.rcParams['figure.figsize'] = (7.0, 7.0)\n",
    "xgb.plot_importance(booster=model); plt.show()"
   ]
  }
 ],
 "metadata": {
  "kernelspec": {
   "display_name": "Python 3",
   "language": "python",
   "name": "python3"
  },
  "language_info": {
   "codemirror_mode": {
    "name": "ipython",
    "version": 3
   },
   "file_extension": ".py",
   "mimetype": "text/x-python",
   "name": "python",
   "nbconvert_exporter": "python",
   "pygments_lexer": "ipython3",
   "version": "3.6.3"
  },
  "toc": {
   "nav_menu": {},
   "number_sections": true,
   "sideBar": true,
   "skip_h1_title": false,
   "title_cell": "Table of Contents",
   "title_sidebar": "Contents",
   "toc_cell": false,
   "toc_position": {},
   "toc_section_display": true,
   "toc_window_display": false
  }
 },
 "nbformat": 4,
 "nbformat_minor": 1
}
